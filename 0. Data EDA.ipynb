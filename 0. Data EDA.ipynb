{
 "cells": [
  {
   "cell_type": "code",
   "execution_count": 32,
   "metadata": {},
   "outputs": [],
   "source": [
    "#-*- coding:utf-8 -*-\n",
    "\n",
    "import os\n",
    "import sys\n",
    "import time\n",
    "import datetime\n",
    "import pickle\n",
    "import random\n",
    "\n",
    "import numpy as np\n",
    "import pandas as pd\n",
    "import matplotlib\n",
    "import matplotlib.pyplot as plt\n",
    "import cv2\n",
    "\n",
    "import torch\n",
    "\n",
    "from tqdm import tqdm\n",
    "from scipy.interpolate import interp1d"
   ]
  },
  {
   "cell_type": "code",
   "execution_count": 33,
   "metadata": {},
   "outputs": [],
   "source": [
    "SEED = 12345\n",
    "random.seed(SEED)\n",
    "np.random.seed(SEED)\n",
    "torch.manual_seed(SEED)\n",
    "torch.cuda.manual_seed_all(SEED)"
   ]
  },
  {
   "cell_type": "markdown",
   "metadata": {},
   "source": [
    "## Load and Preprocess the seneor label data"
   ]
  },
  {
   "cell_type": "code",
   "execution_count": 34,
   "metadata": {},
   "outputs": [],
   "source": [
    "file_list = os.listdir('dataset_twosources_raw')\n",
    "file_list.sort()"
   ]
  },
  {
   "cell_type": "code",
   "execution_count": 35,
   "metadata": {},
   "outputs": [],
   "source": [
    "sample_info_list = []\n",
    "\n",
    "for file_name in file_list:\n",
    "    idx = file_name.split('_')[0]\n",
    "    element_1 = file_name.split('_')[1]\n",
    "    concentrate_1 = file_name.split('_')[2]\n",
    "    element_2 = file_name.split('_')[3]\n",
    "    concentrate_2 = file_name.split('_')[4]\n",
    "    sample_info_list.append([idx, element_1, concentrate_1, element_2, concentrate_2])\n",
    "sample_info_array = np.array(sample_info_list)"
   ]
  },
  {
   "cell_type": "code",
   "execution_count": 36,
   "metadata": {},
   "outputs": [
    {
     "data": {
      "text/html": [
       "<div>\n",
       "<style scoped>\n",
       "    .dataframe tbody tr th:only-of-type {\n",
       "        vertical-align: middle;\n",
       "    }\n",
       "\n",
       "    .dataframe tbody tr th {\n",
       "        vertical-align: top;\n",
       "    }\n",
       "\n",
       "    .dataframe thead th {\n",
       "        text-align: right;\n",
       "    }\n",
       "</style>\n",
       "<table border=\"1\" class=\"dataframe\">\n",
       "  <thead>\n",
       "    <tr style=\"text-align: right;\">\n",
       "      <th></th>\n",
       "      <th>idx</th>\n",
       "      <th>element_1</th>\n",
       "      <th>concentrate_1</th>\n",
       "      <th>element_2</th>\n",
       "      <th>concentrate_2</th>\n",
       "    </tr>\n",
       "  </thead>\n",
       "  <tbody>\n",
       "    <tr>\n",
       "      <th>0</th>\n",
       "      <td>000</td>\n",
       "      <td>Et</td>\n",
       "      <td>H</td>\n",
       "      <td>CO</td>\n",
       "      <td>n</td>\n",
       "    </tr>\n",
       "    <tr>\n",
       "      <th>1</th>\n",
       "      <td>001</td>\n",
       "      <td>Et</td>\n",
       "      <td>L</td>\n",
       "      <td>Me</td>\n",
       "      <td>H</td>\n",
       "    </tr>\n",
       "    <tr>\n",
       "      <th>2</th>\n",
       "      <td>002</td>\n",
       "      <td>Et</td>\n",
       "      <td>H</td>\n",
       "      <td>CO</td>\n",
       "      <td>H</td>\n",
       "    </tr>\n",
       "    <tr>\n",
       "      <th>3</th>\n",
       "      <td>003</td>\n",
       "      <td>Et</td>\n",
       "      <td>H</td>\n",
       "      <td>Me</td>\n",
       "      <td>n</td>\n",
       "    </tr>\n",
       "    <tr>\n",
       "      <th>4</th>\n",
       "      <td>004</td>\n",
       "      <td>Et</td>\n",
       "      <td>L</td>\n",
       "      <td>CO</td>\n",
       "      <td>H</td>\n",
       "    </tr>\n",
       "  </tbody>\n",
       "</table>\n",
       "</div>"
      ],
      "text/plain": [
       "   idx element_1 concentrate_1 element_2 concentrate_2\n",
       "0  000        Et             H        CO             n\n",
       "1  001        Et             L        Me             H\n",
       "2  002        Et             H        CO             H\n",
       "3  003        Et             H        Me             n\n",
       "4  004        Et             L        CO             H"
      ]
     },
     "execution_count": 36,
     "metadata": {},
     "output_type": "execute_result"
    }
   ],
   "source": [
    "sample_info_df = pd.DataFrame(sample_info_array, columns=['idx', 'element_1', 'concentrate_1', 'element_2', 'concentrate_2'])\n",
    "sample_info_df.head()"
   ]
  },
  {
   "cell_type": "code",
   "execution_count": 37,
   "metadata": {},
   "outputs": [
    {
     "data": {
      "text/html": [
       "<div>\n",
       "<style scoped>\n",
       "    .dataframe tbody tr th:only-of-type {\n",
       "        vertical-align: middle;\n",
       "    }\n",
       "\n",
       "    .dataframe tbody tr th {\n",
       "        vertical-align: top;\n",
       "    }\n",
       "\n",
       "    .dataframe thead th {\n",
       "        text-align: right;\n",
       "    }\n",
       "</style>\n",
       "<table border=\"1\" class=\"dataframe\">\n",
       "  <thead>\n",
       "    <tr style=\"text-align: right;\">\n",
       "      <th></th>\n",
       "      <th>idx</th>\n",
       "      <th>Et</th>\n",
       "      <th>CO</th>\n",
       "      <th>Me</th>\n",
       "      <th>Combination</th>\n",
       "    </tr>\n",
       "  </thead>\n",
       "  <tbody>\n",
       "    <tr>\n",
       "      <th>0</th>\n",
       "      <td>000</td>\n",
       "      <td>H</td>\n",
       "      <td>n</td>\n",
       "      <td>None</td>\n",
       "      <td>[H, n, None]</td>\n",
       "    </tr>\n",
       "    <tr>\n",
       "      <th>1</th>\n",
       "      <td>001</td>\n",
       "      <td>L</td>\n",
       "      <td>None</td>\n",
       "      <td>H</td>\n",
       "      <td>[L, None, H]</td>\n",
       "    </tr>\n",
       "    <tr>\n",
       "      <th>2</th>\n",
       "      <td>002</td>\n",
       "      <td>H</td>\n",
       "      <td>H</td>\n",
       "      <td>None</td>\n",
       "      <td>[H, H, None]</td>\n",
       "    </tr>\n",
       "    <tr>\n",
       "      <th>3</th>\n",
       "      <td>003</td>\n",
       "      <td>H</td>\n",
       "      <td>None</td>\n",
       "      <td>n</td>\n",
       "      <td>[H, None, n]</td>\n",
       "    </tr>\n",
       "    <tr>\n",
       "      <th>4</th>\n",
       "      <td>004</td>\n",
       "      <td>L</td>\n",
       "      <td>H</td>\n",
       "      <td>None</td>\n",
       "      <td>[L, H, None]</td>\n",
       "    </tr>\n",
       "  </tbody>\n",
       "</table>\n",
       "</div>"
      ],
      "text/plain": [
       "   idx Et    CO    Me   Combination\n",
       "0  000  H     n  None  [H, n, None]\n",
       "1  001  L  None     H  [L, None, H]\n",
       "2  002  H     H  None  [H, H, None]\n",
       "3  003  H  None     n  [H, None, n]\n",
       "4  004  L     H  None  [L, H, None]"
      ]
     },
     "execution_count": 37,
     "metadata": {},
     "output_type": "execute_result"
    }
   ],
   "source": [
    "label_list = []\n",
    "for idx in range(len(sample_info_df)):\n",
    "    sample = sample_info_df.iloc[idx]\n",
    "    concentrate_dict = {'Et': None, 'CO': None, 'Me': None}\n",
    "    concentrate_dict[sample['element_1']] = sample['concentrate_1']\n",
    "    concentrate_dict[sample['element_2']] = sample['concentrate_2']\n",
    "    values = list(concentrate_dict.values())\n",
    "    label_list.append([sample['idx']]+values+[values])\n",
    "label_list = pd.DataFrame(label_list, columns = ['idx', 'Et', 'CO', 'Me', 'Combination'])\n",
    "label_list.head()"
   ]
  },
  {
   "cell_type": "code",
   "execution_count": 38,
   "metadata": {},
   "outputs": [
    {
     "data": {
      "text/plain": [
       "30"
      ]
     },
     "execution_count": 38,
     "metadata": {},
     "output_type": "execute_result"
    }
   ],
   "source": [
    "Combination_list = [tuple(x) for x in label_list['Combination']]\n",
    "Unique_Combination_list = list(set(Combination_list))\n",
    "len(Unique_Combination_list) # 30 combinations out of 180 samples "
   ]
  },
  {
   "cell_type": "code",
   "execution_count": 39,
   "metadata": {},
   "outputs": [
    {
     "data": {
      "text/html": [
       "<div>\n",
       "<style scoped>\n",
       "    .dataframe tbody tr th:only-of-type {\n",
       "        vertical-align: middle;\n",
       "    }\n",
       "\n",
       "    .dataframe tbody tr th {\n",
       "        vertical-align: top;\n",
       "    }\n",
       "\n",
       "    .dataframe thead th {\n",
       "        text-align: right;\n",
       "    }\n",
       "</style>\n",
       "<table border=\"1\" class=\"dataframe\">\n",
       "  <thead>\n",
       "    <tr style=\"text-align: right;\">\n",
       "      <th></th>\n",
       "      <th>idx</th>\n",
       "      <th>Et</th>\n",
       "      <th>CO</th>\n",
       "      <th>Me</th>\n",
       "      <th>Combination</th>\n",
       "    </tr>\n",
       "  </thead>\n",
       "  <tbody>\n",
       "    <tr>\n",
       "      <th>0</th>\n",
       "      <td>000</td>\n",
       "      <td>1</td>\n",
       "      <td>0</td>\n",
       "      <td>0</td>\n",
       "      <td>[1, 0, 0]</td>\n",
       "    </tr>\n",
       "    <tr>\n",
       "      <th>1</th>\n",
       "      <td>001</td>\n",
       "      <td>1</td>\n",
       "      <td>0</td>\n",
       "      <td>1</td>\n",
       "      <td>[1, 0, 1]</td>\n",
       "    </tr>\n",
       "    <tr>\n",
       "      <th>2</th>\n",
       "      <td>002</td>\n",
       "      <td>1</td>\n",
       "      <td>1</td>\n",
       "      <td>0</td>\n",
       "      <td>[1, 1, 0]</td>\n",
       "    </tr>\n",
       "    <tr>\n",
       "      <th>3</th>\n",
       "      <td>003</td>\n",
       "      <td>1</td>\n",
       "      <td>0</td>\n",
       "      <td>0</td>\n",
       "      <td>[1, 0, 0]</td>\n",
       "    </tr>\n",
       "    <tr>\n",
       "      <th>4</th>\n",
       "      <td>004</td>\n",
       "      <td>1</td>\n",
       "      <td>1</td>\n",
       "      <td>0</td>\n",
       "      <td>[1, 1, 0]</td>\n",
       "    </tr>\n",
       "  </tbody>\n",
       "</table>\n",
       "</div>"
      ],
      "text/plain": [
       "   idx  Et  CO  Me Combination\n",
       "0  000   1   0   0   [1, 0, 0]\n",
       "1  001   1   0   1   [1, 0, 1]\n",
       "2  002   1   1   0   [1, 1, 0]\n",
       "3  003   1   0   0   [1, 0, 0]\n",
       "4  004   1   1   0   [1, 1, 0]"
      ]
     },
     "execution_count": 39,
     "metadata": {},
     "output_type": "execute_result"
    }
   ],
   "source": [
    "label_list = []\n",
    "for idx in range(len(sample_info_df)):\n",
    "    sample = sample_info_df.iloc[idx]\n",
    "    concentrate_dict = {'Et': 0, 'CO': 0, 'Me': 0}\n",
    "    if sample['concentrate_1'] != 'n' and sample['concentrate_1'] != None:\n",
    "        concentrate_dict[sample['element_1']] = 1\n",
    "    if sample['concentrate_2'] != 'n' and sample['concentrate_2'] != None:\n",
    "        concentrate_dict[sample['element_2']] = 1\n",
    "    values = list(concentrate_dict.values())\n",
    "    label_list.append([sample['idx']]+values+[values])\n",
    "label_list = pd.DataFrame(label_list, columns = ['idx', 'Et', 'CO', 'Me', 'Combination'])\n",
    "label_list.head()"
   ]
  },
  {
   "cell_type": "code",
   "execution_count": 40,
   "metadata": {},
   "outputs": [
    {
     "data": {
      "text/plain": [
       "5"
      ]
     },
     "execution_count": 40,
     "metadata": {},
     "output_type": "execute_result"
    }
   ],
   "source": [
    "Combination_list = [tuple(x) for x in label_list['Combination']]\n",
    "Unique_Combination_list = list(set(Combination_list))\n",
    "len(Unique_Combination_list) # 30 combinations out of 180 samples "
   ]
  },
  {
   "cell_type": "code",
   "execution_count": 41,
   "metadata": {},
   "outputs": [],
   "source": [
    "data_df = label_list\n",
    "data_df.sort_index(inplace=True)"
   ]
  },
  {
   "cell_type": "code",
   "execution_count": 42,
   "metadata": {},
   "outputs": [
    {
     "data": {
      "text/html": [
       "<div>\n",
       "<style scoped>\n",
       "    .dataframe tbody tr th:only-of-type {\n",
       "        vertical-align: middle;\n",
       "    }\n",
       "\n",
       "    .dataframe tbody tr th {\n",
       "        vertical-align: top;\n",
       "    }\n",
       "\n",
       "    .dataframe thead th {\n",
       "        text-align: right;\n",
       "    }\n",
       "</style>\n",
       "<table border=\"1\" class=\"dataframe\">\n",
       "  <thead>\n",
       "    <tr style=\"text-align: right;\">\n",
       "      <th></th>\n",
       "      <th>idx</th>\n",
       "      <th>Et</th>\n",
       "      <th>CO</th>\n",
       "      <th>Me</th>\n",
       "      <th>Combination</th>\n",
       "      <th>Label</th>\n",
       "    </tr>\n",
       "  </thead>\n",
       "  <tbody>\n",
       "    <tr>\n",
       "      <th>0</th>\n",
       "      <td>000</td>\n",
       "      <td>1</td>\n",
       "      <td>0</td>\n",
       "      <td>0</td>\n",
       "      <td>[1, 0, 0]</td>\n",
       "      <td>1</td>\n",
       "    </tr>\n",
       "    <tr>\n",
       "      <th>1</th>\n",
       "      <td>001</td>\n",
       "      <td>1</td>\n",
       "      <td>0</td>\n",
       "      <td>1</td>\n",
       "      <td>[1, 0, 1]</td>\n",
       "      <td>3</td>\n",
       "    </tr>\n",
       "    <tr>\n",
       "      <th>2</th>\n",
       "      <td>002</td>\n",
       "      <td>1</td>\n",
       "      <td>1</td>\n",
       "      <td>0</td>\n",
       "      <td>[1, 1, 0]</td>\n",
       "      <td>0</td>\n",
       "    </tr>\n",
       "    <tr>\n",
       "      <th>3</th>\n",
       "      <td>003</td>\n",
       "      <td>1</td>\n",
       "      <td>0</td>\n",
       "      <td>0</td>\n",
       "      <td>[1, 0, 0]</td>\n",
       "      <td>1</td>\n",
       "    </tr>\n",
       "    <tr>\n",
       "      <th>4</th>\n",
       "      <td>004</td>\n",
       "      <td>1</td>\n",
       "      <td>1</td>\n",
       "      <td>0</td>\n",
       "      <td>[1, 1, 0]</td>\n",
       "      <td>0</td>\n",
       "    </tr>\n",
       "    <tr>\n",
       "      <th>...</th>\n",
       "      <td>...</td>\n",
       "      <td>...</td>\n",
       "      <td>...</td>\n",
       "      <td>...</td>\n",
       "      <td>...</td>\n",
       "      <td>...</td>\n",
       "    </tr>\n",
       "    <tr>\n",
       "      <th>175</th>\n",
       "      <td>175</td>\n",
       "      <td>1</td>\n",
       "      <td>0</td>\n",
       "      <td>0</td>\n",
       "      <td>[1, 0, 0]</td>\n",
       "      <td>1</td>\n",
       "    </tr>\n",
       "    <tr>\n",
       "      <th>176</th>\n",
       "      <td>176</td>\n",
       "      <td>1</td>\n",
       "      <td>0</td>\n",
       "      <td>0</td>\n",
       "      <td>[1, 0, 0]</td>\n",
       "      <td>1</td>\n",
       "    </tr>\n",
       "    <tr>\n",
       "      <th>177</th>\n",
       "      <td>177</td>\n",
       "      <td>0</td>\n",
       "      <td>0</td>\n",
       "      <td>1</td>\n",
       "      <td>[0, 0, 1]</td>\n",
       "      <td>2</td>\n",
       "    </tr>\n",
       "    <tr>\n",
       "      <th>178</th>\n",
       "      <td>178</td>\n",
       "      <td>0</td>\n",
       "      <td>1</td>\n",
       "      <td>0</td>\n",
       "      <td>[0, 1, 0]</td>\n",
       "      <td>4</td>\n",
       "    </tr>\n",
       "    <tr>\n",
       "      <th>179</th>\n",
       "      <td>179</td>\n",
       "      <td>1</td>\n",
       "      <td>0</td>\n",
       "      <td>1</td>\n",
       "      <td>[1, 0, 1]</td>\n",
       "      <td>3</td>\n",
       "    </tr>\n",
       "  </tbody>\n",
       "</table>\n",
       "<p>180 rows × 6 columns</p>\n",
       "</div>"
      ],
      "text/plain": [
       "     idx  Et  CO  Me Combination  Label\n",
       "0    000   1   0   0   [1, 0, 0]      1\n",
       "1    001   1   0   1   [1, 0, 1]      3\n",
       "2    002   1   1   0   [1, 1, 0]      0\n",
       "3    003   1   0   0   [1, 0, 0]      1\n",
       "4    004   1   1   0   [1, 1, 0]      0\n",
       "..   ...  ..  ..  ..         ...    ...\n",
       "175  175   1   0   0   [1, 0, 0]      1\n",
       "176  176   1   0   0   [1, 0, 0]      1\n",
       "177  177   0   0   1   [0, 0, 1]      2\n",
       "178  178   0   1   0   [0, 1, 0]      4\n",
       "179  179   1   0   1   [1, 0, 1]      3\n",
       "\n",
       "[180 rows x 6 columns]"
      ]
     },
     "execution_count": 42,
     "metadata": {},
     "output_type": "execute_result"
    }
   ],
   "source": [
    "combination_to_label_dict = dict(zip(Unique_Combination_list, range(len(Unique_Combination_list))))\n",
    "data_df['Label'] = data_df['Combination'].apply(lambda s: combination_to_label_dict[tuple(s)])\n",
    "data_df"
   ]
  },
  {
   "cell_type": "code",
   "execution_count": 43,
   "metadata": {},
   "outputs": [
    {
     "data": {
      "text/plain": [
       "array([[list([0, 0, 1]), 18],\n",
       "       [list([0, 1, 0]), 18],\n",
       "       [list([1, 0, 0]), 36],\n",
       "       [list([1, 0, 1]), 54],\n",
       "       [list([1, 1, 0]), 54]], dtype=object)"
      ]
     },
     "execution_count": 43,
     "metadata": {},
     "output_type": "execute_result"
    }
   ],
   "source": [
    "labels, counts = np.unique(data_df['Combination'], return_counts=True)\n",
    "np.array([labels, counts]).T"
   ]
  },
  {
   "cell_type": "code",
   "execution_count": 44,
   "metadata": {},
   "outputs": [
    {
     "data": {
      "text/plain": [
       "array([[ 0, 54],\n",
       "       [ 1, 36],\n",
       "       [ 2, 18],\n",
       "       [ 3, 54],\n",
       "       [ 4, 18]])"
      ]
     },
     "execution_count": 44,
     "metadata": {},
     "output_type": "execute_result"
    }
   ],
   "source": [
    "labels, counts = np.unique(data_df['Label'], return_counts=True)\n",
    "np.array([labels, counts]).T"
   ]
  },
  {
   "cell_type": "code",
   "execution_count": 45,
   "metadata": {},
   "outputs": [
    {
     "name": "stdout",
     "output_type": "stream",
     "text": [
      "54 38 16\n",
      "36 25 11\n",
      "18 13 5\n",
      "54 38 16\n",
      "18 13 5\n"
     ]
    }
   ],
   "source": [
    "#add data split, save it\n",
    "train_df = []\n",
    "test_df = []\n",
    "splits = []\n",
    "\n",
    "for idx in range(len(Unique_Combination_list)):\n",
    "    index = data_df.loc[data_df['Label']==idx].index.to_list()\n",
    "    train_index = np.random.choice(np.array(index), round(len(index)*0.7), replace=False)\n",
    "    test_index = [ii for ii in index if ii not in train_index]\n",
    "    print(len(index), len(train_index), len(test_index))\n",
    "    \n",
    "    train_df.append(data_df.loc[train_index])\n",
    "    test_df.append(data_df.loc[test_index])\n",
    "    splits.append([idx, train_index, test_index])\n",
    "    \n",
    "train_df = pd.concat(train_df)\n",
    "test_df = pd.concat(test_df)"
   ]
  },
  {
   "cell_type": "code",
   "execution_count": 46,
   "metadata": {},
   "outputs": [
    {
     "name": "stdout",
     "output_type": "stream",
     "text": [
      "(127, 6)\n"
     ]
    },
    {
     "data": {
      "text/html": [
       "<div>\n",
       "<style scoped>\n",
       "    .dataframe tbody tr th:only-of-type {\n",
       "        vertical-align: middle;\n",
       "    }\n",
       "\n",
       "    .dataframe tbody tr th {\n",
       "        vertical-align: top;\n",
       "    }\n",
       "\n",
       "    .dataframe thead th {\n",
       "        text-align: right;\n",
       "    }\n",
       "</style>\n",
       "<table border=\"1\" class=\"dataframe\">\n",
       "  <thead>\n",
       "    <tr style=\"text-align: right;\">\n",
       "      <th></th>\n",
       "      <th>idx</th>\n",
       "      <th>Et</th>\n",
       "      <th>CO</th>\n",
       "      <th>Me</th>\n",
       "      <th>Combination</th>\n",
       "      <th>Label</th>\n",
       "    </tr>\n",
       "  </thead>\n",
       "  <tbody>\n",
       "    <tr>\n",
       "      <th>94</th>\n",
       "      <td>094</td>\n",
       "      <td>1</td>\n",
       "      <td>1</td>\n",
       "      <td>0</td>\n",
       "      <td>[1, 1, 0]</td>\n",
       "      <td>0</td>\n",
       "    </tr>\n",
       "    <tr>\n",
       "      <th>136</th>\n",
       "      <td>136</td>\n",
       "      <td>1</td>\n",
       "      <td>1</td>\n",
       "      <td>0</td>\n",
       "      <td>[1, 1, 0]</td>\n",
       "      <td>0</td>\n",
       "    </tr>\n",
       "    <tr>\n",
       "      <th>134</th>\n",
       "      <td>134</td>\n",
       "      <td>1</td>\n",
       "      <td>1</td>\n",
       "      <td>0</td>\n",
       "      <td>[1, 1, 0]</td>\n",
       "      <td>0</td>\n",
       "    </tr>\n",
       "    <tr>\n",
       "      <th>102</th>\n",
       "      <td>102</td>\n",
       "      <td>1</td>\n",
       "      <td>1</td>\n",
       "      <td>0</td>\n",
       "      <td>[1, 1, 0]</td>\n",
       "      <td>0</td>\n",
       "    </tr>\n",
       "    <tr>\n",
       "      <th>22</th>\n",
       "      <td>022</td>\n",
       "      <td>1</td>\n",
       "      <td>1</td>\n",
       "      <td>0</td>\n",
       "      <td>[1, 1, 0]</td>\n",
       "      <td>0</td>\n",
       "    </tr>\n",
       "  </tbody>\n",
       "</table>\n",
       "</div>"
      ],
      "text/plain": [
       "     idx  Et  CO  Me Combination  Label\n",
       "94   094   1   1   0   [1, 1, 0]      0\n",
       "136  136   1   1   0   [1, 1, 0]      0\n",
       "134  134   1   1   0   [1, 1, 0]      0\n",
       "102  102   1   1   0   [1, 1, 0]      0\n",
       "22   022   1   1   0   [1, 1, 0]      0"
      ]
     },
     "execution_count": 46,
     "metadata": {},
     "output_type": "execute_result"
    }
   ],
   "source": [
    "print(train_df.shape)\n",
    "train_df.head()"
   ]
  },
  {
   "cell_type": "code",
   "execution_count": 47,
   "metadata": {},
   "outputs": [
    {
     "name": "stdout",
     "output_type": "stream",
     "text": [
      "(53, 6)\n"
     ]
    },
    {
     "data": {
      "text/html": [
       "<div>\n",
       "<style scoped>\n",
       "    .dataframe tbody tr th:only-of-type {\n",
       "        vertical-align: middle;\n",
       "    }\n",
       "\n",
       "    .dataframe tbody tr th {\n",
       "        vertical-align: top;\n",
       "    }\n",
       "\n",
       "    .dataframe thead th {\n",
       "        text-align: right;\n",
       "    }\n",
       "</style>\n",
       "<table border=\"1\" class=\"dataframe\">\n",
       "  <thead>\n",
       "    <tr style=\"text-align: right;\">\n",
       "      <th></th>\n",
       "      <th>idx</th>\n",
       "      <th>Et</th>\n",
       "      <th>CO</th>\n",
       "      <th>Me</th>\n",
       "      <th>Combination</th>\n",
       "      <th>Label</th>\n",
       "    </tr>\n",
       "  </thead>\n",
       "  <tbody>\n",
       "    <tr>\n",
       "      <th>4</th>\n",
       "      <td>004</td>\n",
       "      <td>1</td>\n",
       "      <td>1</td>\n",
       "      <td>0</td>\n",
       "      <td>[1, 1, 0]</td>\n",
       "      <td>0</td>\n",
       "    </tr>\n",
       "    <tr>\n",
       "      <th>34</th>\n",
       "      <td>034</td>\n",
       "      <td>1</td>\n",
       "      <td>1</td>\n",
       "      <td>0</td>\n",
       "      <td>[1, 1, 0]</td>\n",
       "      <td>0</td>\n",
       "    </tr>\n",
       "    <tr>\n",
       "      <th>38</th>\n",
       "      <td>038</td>\n",
       "      <td>1</td>\n",
       "      <td>1</td>\n",
       "      <td>0</td>\n",
       "      <td>[1, 1, 0]</td>\n",
       "      <td>0</td>\n",
       "    </tr>\n",
       "    <tr>\n",
       "      <th>52</th>\n",
       "      <td>052</td>\n",
       "      <td>1</td>\n",
       "      <td>1</td>\n",
       "      <td>0</td>\n",
       "      <td>[1, 1, 0]</td>\n",
       "      <td>0</td>\n",
       "    </tr>\n",
       "    <tr>\n",
       "      <th>58</th>\n",
       "      <td>058</td>\n",
       "      <td>1</td>\n",
       "      <td>1</td>\n",
       "      <td>0</td>\n",
       "      <td>[1, 1, 0]</td>\n",
       "      <td>0</td>\n",
       "    </tr>\n",
       "  </tbody>\n",
       "</table>\n",
       "</div>"
      ],
      "text/plain": [
       "    idx  Et  CO  Me Combination  Label\n",
       "4   004   1   1   0   [1, 1, 0]      0\n",
       "34  034   1   1   0   [1, 1, 0]      0\n",
       "38  038   1   1   0   [1, 1, 0]      0\n",
       "52  052   1   1   0   [1, 1, 0]      0\n",
       "58  058   1   1   0   [1, 1, 0]      0"
      ]
     },
     "execution_count": 47,
     "metadata": {},
     "output_type": "execute_result"
    }
   ],
   "source": [
    "print(test_df.shape)\n",
    "test_df.head()"
   ]
  },
  {
   "cell_type": "code",
   "execution_count": 48,
   "metadata": {},
   "outputs": [],
   "source": [
    "with open ('label_list.pkl', 'wb') as f:\n",
    "    pickle.dump(data_df, f)\n",
    "\n",
    "with open ('splits/label_train_list.pkl', 'wb') as f:\n",
    "    pickle.dump(train_df, f)\n",
    "\n",
    "with open ('splits/label_test_list.pkl', 'wb') as f:\n",
    "    pickle.dump(test_df, f)"
   ]
  },
  {
   "cell_type": "code",
   "execution_count": 49,
   "metadata": {},
   "outputs": [],
   "source": [
    "with open ('train_index', 'wb') as f:\n",
    "    pickle.dump(list(train_df.index), f)\n",
    "\n",
    "with open ('test_index', 'wb') as f:\n",
    "    pickle.dump(list(test_df.index), f)"
   ]
  },
  {
   "cell_type": "markdown",
   "metadata": {},
   "source": [
    "## Load and Preprocess the seneor response data"
   ]
  },
  {
   "cell_type": "code",
   "execution_count": 50,
   "metadata": {},
   "outputs": [],
   "source": [
    "file_list = os.listdir('dataset_twosources_raw')\n",
    "file_list.sort()"
   ]
  },
  {
   "cell_type": "code",
   "execution_count": 51,
   "metadata": {},
   "outputs": [],
   "source": [
    "sensor_data_list = []\n",
    "for file_name in file_list:\n",
    "    sensor_data_list.append(pd.read_csv(os.path.join('dataset_twosources_downsampled', file_name), header=None))"
   ]
  },
  {
   "cell_type": "code",
   "execution_count": 53,
   "metadata": {},
   "outputs": [],
   "source": [
    "sensor_data_np = np.asarray(sensor_data_list, dtype=object)"
   ]
  },
  {
   "cell_type": "code",
   "execution_count": 54,
   "metadata": {},
   "outputs": [],
   "source": [
    "sensor_data_train_np = sensor_data_np[list(train_df.index)]\n",
    "sensor_data_test_np = sensor_data_np[list(test_df.index)]"
   ]
  },
  {
   "cell_type": "code",
   "execution_count": 55,
   "metadata": {},
   "outputs": [],
   "source": [
    "with open ('data_list.pkl', 'wb') as f:\n",
    "    pickle.dump(sensor_data_np, f)\n",
    "    \n",
    "with open ('splits/data_train_list.pkl', 'wb') as f:\n",
    "    pickle.dump(sensor_data_train_np, f)\n",
    "    \n",
    "with open ('splits/data_test_list.pkl', 'wb') as f:\n",
    "    pickle.dump(sensor_data_test_np, f)"
   ]
  },
  {
   "cell_type": "markdown",
   "metadata": {},
   "source": [
    "## Using train data, estimate the distribution for each sensor"
   ]
  },
  {
   "cell_type": "code",
   "execution_count": 75,
   "metadata": {},
   "outputs": [],
   "source": [
    "#sensor_data_all = np.concatenate(sensor_data_list)\n",
    "sensor_data_all = np.concatenate(sensor_data_train_np)\n",
    "sensor_data_all = sensor_data_all[:,3:]"
   ]
  },
  {
   "cell_type": "code",
   "execution_count": 76,
   "metadata": {},
   "outputs": [
    {
     "data": {
      "text/plain": [
       "(377190, 8)"
      ]
     },
     "execution_count": 76,
     "metadata": {},
     "output_type": "execute_result"
    }
   ],
   "source": [
    "sensor_data_all.shape"
   ]
  },
  {
   "cell_type": "code",
   "execution_count": 77,
   "metadata": {},
   "outputs": [],
   "source": [
    "sensor_response_distribution_list = []\n",
    "for sensor_data in sensor_data_all.T:\n",
    "    sensor_response_distribution_list.append(sensor_data)"
   ]
  },
  {
   "cell_type": "code",
   "execution_count": 78,
   "metadata": {},
   "outputs": [
    {
     "data": {
      "text/plain": [
       "array([518.0, 426.0, 795.0, 970.0, 962.0, 1184.0, 1081.0, 1172.0],\n",
       "      dtype=object)"
      ]
     },
     "execution_count": 78,
     "metadata": {},
     "output_type": "execute_result"
    }
   ],
   "source": [
    "true_max = np.max(sensor_data_all, axis=0)\n",
    "true_max"
   ]
  },
  {
   "cell_type": "code",
   "execution_count": 79,
   "metadata": {},
   "outputs": [
    {
     "data": {
      "text/plain": [
       "1184.0"
      ]
     },
     "execution_count": 79,
     "metadata": {},
     "output_type": "execute_result"
    }
   ],
   "source": [
    "RESPONSE_MAX = np.max(true_max)\n",
    "RESPONSE_MAX"
   ]
  },
  {
   "cell_type": "code",
   "execution_count": 80,
   "metadata": {},
   "outputs": [],
   "source": [
    "with open ('response_max', 'wb') as f:\n",
    "    pickle.dump(RESPONSE_MAX, f)"
   ]
  },
  {
   "cell_type": "code",
   "execution_count": 81,
   "metadata": {},
   "outputs": [],
   "source": [
    "IMAGE_X = 640\n",
    "IMAGE_Y = 480"
   ]
  },
  {
   "cell_type": "code",
   "execution_count": 82,
   "metadata": {},
   "outputs": [],
   "source": [
    "data = sensor_data_np[0]"
   ]
  },
  {
   "cell_type": "code",
   "execution_count": 83,
   "metadata": {},
   "outputs": [
    {
     "data": {
      "text/plain": [
       "(2970, 11)"
      ]
     },
     "execution_count": 83,
     "metadata": {},
     "output_type": "execute_result"
    }
   ],
   "source": [
    "data.shape"
   ]
  },
  {
   "cell_type": "code",
   "execution_count": 84,
   "metadata": {},
   "outputs": [],
   "source": [
    "def convert_datetime(date_time_str):\n",
    "    return datetime.datetime.strptime(date_time_str, '%Y-%m-%d %H:%M:%S').timestamp()"
   ]
  },
  {
   "cell_type": "code",
   "execution_count": 101,
   "metadata": {},
   "outputs": [],
   "source": [
    "    x = range(len(data[:,0]))\n",
    "    y = data[:,4]"
   ]
  },
  {
   "cell_type": "code",
   "execution_count": 102,
   "metadata": {},
   "outputs": [],
   "source": [
    "f0 = interp1d(x, y)"
   ]
  },
  {
   "cell_type": "code",
   "execution_count": 103,
   "metadata": {},
   "outputs": [],
   "source": [
    "f1 = interp1d(x, y, kind='cubic')\n",
    "f2 = interp1d(x, y, kind='quadratic')"
   ]
  },
  {
   "cell_type": "code",
   "execution_count": 104,
   "metadata": {},
   "outputs": [
    {
     "data": {
      "image/png": "[encoded data removed]",
      "text/plain": [
       "<Figure size 1152x648 with 1 Axes>"
      ]
     },
     "metadata": {
      "needs_background": "light"
     },
     "output_type": "display_data"
    }
   ],
   "source": [
    "x_new = np.linspace(0, max(x), 100, endpoint=True)\n",
    "\n",
    "plt.figure(figsize=(16,9))\n",
    "plt.plot(x,y, 'o', label='data')\n",
    "plt.plot(x_new, f0(x_new), ':', alpha = 0.5, label = 'linear')\n",
    "plt.plot(x_new, f1(x_new), '-', alpha = 0.5,  label = 'cubic')\n",
    "plt.plot(x_new, f2(x_new), '--', alpha = 0.5,  label = 'quadratic')\n",
    "plt.ylim(0, RESPONSE_MAX)\n",
    "plt.legend()\n",
    "plt.show()"
   ]
  },
  {
   "cell_type": "code",
   "execution_count": null,
   "metadata": {},
   "outputs": [],
   "source": []
  },
  {
   "cell_type": "code",
   "execution_count": 105,
   "metadata": {},
   "outputs": [],
   "source": [
    "x_new = np.linspace(0, max(x), 10000, endpoint=True)\n",
    "f_interpolation = interp1d(x, y, kind='quadratic')\n",
    "y_new = f_interpolation(x_new)"
   ]
  },
  {
   "cell_type": "code",
   "execution_count": 106,
   "metadata": {},
   "outputs": [],
   "source": [
    "#x_edge = range(0, int(max(x_new))+1, 1)\n",
    "#y_edge = range(0, round(RESPONSE_MAX)+1, 1)\n",
    "\n",
    "x_edge = np.linspace(0, int(max(x_new))+1, 640+1, endpoint=True)\n",
    "y_edge = np.linspace(0, round(RESPONSE_MAX)+1, 480+1, endpoint=True)"
   ]
  },
  {
   "cell_type": "code",
   "execution_count": 107,
   "metadata": {},
   "outputs": [],
   "source": [
    "H, xedges, yedges = np.histogram2d(x_new, y_new, bins=(x_edge, y_edge))\n",
    "H = H.T"
   ]
  },
  {
   "cell_type": "code",
   "execution_count": 108,
   "metadata": {},
   "outputs": [],
   "source": [
    "H_filp = np.flipud(H)"
   ]
  },
  {
   "cell_type": "code",
   "execution_count": 109,
   "metadata": {},
   "outputs": [
    {
     "data": {
      "text/plain": [
       "(480, 640)"
      ]
     },
     "execution_count": 109,
     "metadata": {},
     "output_type": "execute_result"
    }
   ],
   "source": [
    "H_filp.shape"
   ]
  },
  {
   "cell_type": "code",
   "execution_count": 110,
   "metadata": {},
   "outputs": [
    {
     "data": {
      "image/png": "[encoded data removed]",
      "text/plain": [
       "<Figure size 864x1296 with 1 Axes>"
      ]
     },
     "metadata": {
      "needs_background": "light"
     },
     "output_type": "display_data"
    }
   ],
   "source": [
    "plt.figure(figsize=(12,18))\n",
    "plt.imshow(H_filp, cmap='Greys')\n",
    "plt.axis('off')\n",
    "plt.show()"
   ]
  },
  {
   "cell_type": "code",
   "execution_count": null,
   "metadata": {},
   "outputs": [],
   "source": []
  },
  {
   "cell_type": "code",
   "execution_count": 111,
   "metadata": {},
   "outputs": [
    {
     "data": {
      "text/plain": [
       "<matplotlib.image.AxesImage at 0x7fdda3259cf8>"
      ]
     },
     "execution_count": 111,
     "metadata": {},
     "output_type": "execute_result"
    },
    {
     "data": {
      "image/png": "[encoded data removed]",
      "text/plain": [
       "<Figure size 1152x648 with 1 Axes>"
      ]
     },
     "metadata": {
      "needs_background": "light"
     },
     "output_type": "display_data"
    }
   ],
   "source": [
    "import cv2\n",
    "\n",
    "res = cv2.resize(H_filp, dsize=(640, 480), interpolation=cv2.INTER_AREA)\n",
    "\n",
    "plt.figure(figsize=(16,9))\n",
    "plt.axis('off')\n",
    "plt.margins(0)\n",
    "plt.imshow(res, cmap='Greys')"
   ]
  },
  {
   "cell_type": "code",
   "execution_count": 119,
   "metadata": {},
   "outputs": [],
   "source": [
    "def sample_to_tensor(data):\n",
    "    x = range(len(data[:,0]))\n",
    "    \n",
    "    res_list = []\n",
    "    for i in range(3,data.shape[1]):\n",
    "        y = data[:,i]\n",
    "        x_new = np.linspace(0, max(x), 10000, endpoint=True)\n",
    "        f_interpolation = interp1d(x, y, kind='quadratic')\n",
    "        y_new = f_interpolation(x_new)\n",
    "\n",
    "        #2d hist\n",
    "        x_edge = np.linspace(0, int(max(x_new))+1, 640+1, endpoint=True)\n",
    "        y_edge = np.linspace(0, round(RESPONSE_MAX)+1, 480+1, endpoint=True)\n",
    "        H, xedges, yedges = np.histogram2d(x_new, y_new, bins=(x_edge, y_edge))\n",
    "        H = H.T\n",
    "        H_filp = np.flipud(H)\n",
    "\n",
    "        res = cv2.resize(H_filp, dsize=(640, 480), interpolation=cv2.INTER_AREA)\n",
    "        res_list.append(res)\n",
    "    return torch.tensor(res_list)"
   ]
  },
  {
   "cell_type": "code",
   "execution_count": 120,
   "metadata": {},
   "outputs": [],
   "source": [
    "data_tensor = sample_to_tensor(data)"
   ]
  },
  {
   "cell_type": "code",
   "execution_count": 121,
   "metadata": {},
   "outputs": [
    {
     "data": {
      "image/png": "[encoded data removed]",
      "text/plain": [
       "<Figure size 432x288 with 1 Axes>"
      ]
     },
     "metadata": {
      "needs_background": "light"
     },
     "output_type": "display_data"
    },
    {
     "data": {
      "image/png": "[encoded data removed]",
      "text/plain": [
       "<Figure size 432x288 with 1 Axes>"
      ]
     },
     "metadata": {
      "needs_background": "light"
     },
     "output_type": "display_data"
    },
    {
     "data": {
      "image/png": "[encoded data removed]",
      "text/plain": [
       "<Figure size 432x288 with 1 Axes>"
      ]
     },
     "metadata": {
      "needs_background": "light"
     },
     "output_type": "display_data"
    },
    {
     "data": {
      "image/png": "[encoded data removed]",
      "text/plain": [
       "<Figure size 432x288 with 1 Axes>"
      ]
     },
     "metadata": {
      "needs_background": "light"
     },
     "output_type": "display_data"
    },
    {
     "data": {
      "image/png": "[encoded data removed]",
      "text/plain": [
       "<Figure size 432x288 with 1 Axes>"
      ]
     },
     "metadata": {
      "needs_background": "light"
     },
     "output_type": "display_data"
    },
    {
     "data": {
      "image/png": "[encoded data removed]",
      "text/plain": [
       "<Figure size 432x288 with 1 Axes>"
      ]
     },
     "metadata": {
      "needs_background": "light"
     },
     "output_type": "display_data"
    },
    {
     "data": {
      "image/png": "[encoded data removed]",
      "text/plain": [
       "<Figure size 432x288 with 1 Axes>"
      ]
     },
     "metadata": {
      "needs_background": "light"
     },
     "output_type": "display_data"
    },
    {
     "data": {
      "image/png": "[encoded data removed]",
      "text/plain": [
       "<Figure size 432x288 with 1 Axes>"
      ]
     },
     "metadata": {
      "needs_background": "light"
     },
     "output_type": "display_data"
    }
   ],
   "source": [
    "for res in data_tensor:\n",
    "    plt.axis('off')\n",
    "    plt.margins(0)\n",
    "    plt.imshow(res, cmap='Greys')\n",
    "    plt.show()"
   ]
  },
  {
   "cell_type": "code",
   "execution_count": null,
   "metadata": {},
   "outputs": [],
   "source": [
    "preprocess_results = []\n",
    "for idx in tqdm(range(len(sensor_data_np))):\n",
    "    sample_info = df_list.iloc[idx]\n",
    "    data = sensor_data_np[idx]\n",
    "    data_tensor = sample_to_tensor(data)\n",
    "    preprocess_results.append([sample_info, data_tensor])"
   ]
  },
  {
   "cell_type": "code",
   "execution_count": null,
   "metadata": {},
   "outputs": [],
   "source": [
    "with open ('sample_info_tensor_list.pkl', 'wb') as f:\n",
    "    pickle.dump(preprocess_results, f)"
   ]
  }
 ],
 "metadata": {
  "kernelspec": {
   "display_name": "gas",
   "language": "python",
   "name": "gas"
  },
  "language_info": {
   "codemirror_mode": {
    "name": "ipython",
    "version": 3
   },
   "file_extension": ".py",
   "mimetype": "text/x-python",
   "name": "python",
   "nbconvert_exporter": "python",
   "pygments_lexer": "ipython3",
   "version": "3.6.10"
  }
 },
 "nbformat": 4,
 "nbformat_minor": 4
}
